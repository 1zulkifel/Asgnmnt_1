{
 "cells": [
  {
   "cell_type": "code",
   "execution_count": 1,
   "metadata": {},
   "outputs": [
    {
     "name": "stdout",
     "output_type": "stream",
     "text": [
      "Enter your number: 8\n",
      "Positive\n"
     ]
    }
   ],
   "source": [
    "number=int(input(\"Enter your number: \"))\n",
    "if number>0:\n",
    "    print('Positive')\n",
    "else:\n",
    "    print('Negative')\n",
    "\n",
    "\n",
    "\n",
    "\n"
   ]
  },
  {
   "cell_type": "code",
   "execution_count": 45,
   "metadata": {},
   "outputs": [
    {
     "name": "stdout",
     "output_type": "stream",
     "text": [
      "enter  number66\n",
      "enter  number66\n",
      "enter  number66\n",
      "enter  number66\n",
      "enter  number66\n",
      "330\n",
      "percentage 66.0\n",
      "Grade C\n"
     ]
    }
   ],
   "source": [
    "\n",
    "urdu=int(input('enter  number'))\n",
    "english=int(input('enter  number'))\n",
    "chem=int(input('enter  number'))\n",
    "math=int(input('enter  number'))\n",
    "phy=int(input('enter  number'))\n",
    "total_obtained=urdu+english+chem+math+phy\n",
    "print(total_obtained)\n",
    "percentage= total_obtained /500 *100\n",
    "print( \"percentage\", percentage)\n",
    "if percentage>=80:\n",
    "    print('Grade A')\n",
    "elif percentage>=70:\n",
    "    print('Grade B')\n",
    "elif percentage>=60:\n",
    "    print('Grade C')\n",
    "else:\n",
    "    print('fail')\n",
    "\n",
    "\n"
   ]
  },
  {
   "cell_type": "code",
   "execution_count": 2,
   "metadata": {},
   "outputs": [
    {
     "name": "stdout",
     "output_type": "stream",
     "text": [
      "0\n"
     ]
    }
   ],
   "source": [
    "#programe for quotient and remainder using remainder and modula op\n",
    "\n",
    "a=12\n",
    "b=13\n",
    "c=a//b\n",
    "print(c)"
   ]
  },
  {
   "cell_type": "code",
   "execution_count": 3,
   "metadata": {},
   "outputs": [
    {
     "name": "stdout",
     "output_type": "stream",
     "text": [
      "2\n"
     ]
    }
   ],
   "source": [
    "\n",
    "a=15\n",
    "b=13\n",
    "c=a%b\n",
    "print(c)"
   ]
  },
  {
   "cell_type": "markdown",
   "metadata": {},
   "source": [
    "## \n",
    "### "
   ]
  },
  {
   "cell_type": "code",
   "execution_count": 10,
   "metadata": {},
   "outputs": [
    {
     "name": "stdout",
     "output_type": "stream",
     "text": [
      "1\n",
      "5\n",
      "7\n",
      "11\n",
      "13\n",
      "17\n",
      "19\n",
      "23\n",
      "25\n",
      "29\n",
      "31\n",
      "35\n",
      "37\n",
      "41\n",
      "43\n",
      "47\n",
      "49\n"
     ]
    }
   ],
   "source": [
    "for number in range (0,51):\n",
    "    if (number%2 !=0 and number%3 !=0):\n",
    "        print(number)\n",
    "\n"
   ]
  },
  {
   "cell_type": "code",
   "execution_count": 43,
   "metadata": {},
   "outputs": [
    {
     "name": "stdout",
     "output_type": "stream",
     "text": [
      "enter your number: 17\n",
      "enter your number: 12\n",
      "12\n",
      "17\n"
     ]
    }
   ],
   "source": [
    "# method 1 for swaping \n",
    "\n",
    "a=int(input('enter your number: '))\n",
    "b=int(input('enter your number: '))\n",
    "a=a+b\n",
    "b=a-b\n",
    "a=a-b\n",
    "print(a)\n",
    "print(b)\n",
    "\n"
   ]
  },
  {
   "cell_type": "code",
   "execution_count": 44,
   "metadata": {},
   "outputs": [
    {
     "name": "stdout",
     "output_type": "stream",
     "text": [
      "enter your number: 2\n",
      "enter your number: 3\n",
      "3\n",
      "2\n"
     ]
    }
   ],
   "source": [
    "#method 2 for swaping using XOR \n",
    "a=int(input('enter your number: '))\n",
    "b=int(input('enter your number: '))\n",
    "a=a^b\n",
    "b=a^b\n",
    "a=a^b\n",
    "print(a)\n",
    "print(b)"
   ]
  },
  {
   "cell_type": "code",
   "execution_count": 11,
   "metadata": {},
   "outputs": [
    {
     "name": "stdout",
     "output_type": "stream",
     "text": [
      "1\n",
      "3\n",
      "5\n",
      "7\n",
      "9\n",
      "11\n",
      "13\n",
      "15\n",
      "17\n",
      "19\n",
      "21\n",
      "23\n",
      "25\n",
      "27\n",
      "29\n",
      "31\n",
      "33\n",
      "35\n",
      "37\n",
      "39\n",
      "41\n",
      "43\n",
      "45\n",
      "47\n",
      "49\n"
     ]
    }
   ],
   "source": [
    "for nmbr in range(0,51):\n",
    "    if(nmbr%2 !=0 and nmbr%3 !=3):\n",
    "        print(nmbr)"
   ]
  },
  {
   "cell_type": "markdown",
   "metadata": {},
   "source": [
    " "
   ]
  },
  {
   "cell_type": "code",
   "execution_count": 51,
   "metadata": {},
   "outputs": [
    {
     "name": "stdout",
     "output_type": "stream",
     "text": [
      "4.63511081571606\n"
     ]
    }
   ],
   "source": [
    "#using herons formula for calculating area of triangle\n",
    "import math \n",
    "a = 4.503\n",
    "b = 2.377\n",
    "c = 3.902\n",
    "s = (a + b + c) / 2\n",
    "area = math.sqrt(s * (s - a) * (s - b) * (s - c))\n",
    "print(area)\n",
    "    "
   ]
  },
  {
   "cell_type": "code",
   "execution_count": 19,
   "metadata": {},
   "outputs": [
    {
     "name": "stdout",
     "output_type": "stream",
     "text": [
      "side a:45\n",
      "side b:77\n",
      "side c:89\n",
      "105.5\n",
      "Area of tringle 45 77 89 is 1732.4803570315019\n"
     ]
    }
   ],
   "source": [
    "# for area of triangle.let a,b,c are sides of triangle and half of the perameters are 0.5. use herons formula\n",
    "a=int(input(\"side a:\"))\n",
    "b=int(input(\"side b:\"))\n",
    "c=int(input(\"side c:\"))\n",
    "s=(a+b+c)/2\n",
    "print(s)\n",
    "s=s*((s-a)*(s-b)*(s-c))\n",
    "print(\"Area of tringle\",a,b,c,\"is\",s**0.5)\n",
    "\n",
    "\n",
    "\n"
   ]
  },
  {
   "cell_type": "code",
   "execution_count": 61,
   "metadata": {},
   "outputs": [
    {
     "name": "stdout",
     "output_type": "stream",
     "text": [
      "[2, 4, 6, 8, 10, 12, 14, 16, 18, 20]\n"
     ]
    }
   ],
   "source": [
    "\n",
    "x=[1,2,3,4,5,6,7,8,9,10,11,12,13,14,15,16,17,18,19,20]\n",
    "even_list=[]\n",
    "odd_list=[]\n",
    "for i in x:\n",
    "     if i%2==0:\n",
    "      even_list.append(i)\n",
    "print(even_list)\n"
   ]
  },
  {
   "cell_type": "code",
   "execution_count": null,
   "metadata": {},
   "outputs": [],
   "source": []
  },
  {
   "cell_type": "code",
   "execution_count": null,
   "metadata": {},
   "outputs": [],
   "source": []
  }
 ],
 "metadata": {
  "kernelspec": {
   "display_name": "Python 3",
   "language": "python",
   "name": "python3"
  },
  "language_info": {
   "codemirror_mode": {
    "name": "ipython",
    "version": 3
   },
   "file_extension": ".py",
   "mimetype": "text/x-python",
   "name": "python",
   "nbconvert_exporter": "python",
   "pygments_lexer": "ipython3",
   "version": "3.7.0"
  }
 },
 "nbformat": 4,
 "nbformat_minor": 2
}
