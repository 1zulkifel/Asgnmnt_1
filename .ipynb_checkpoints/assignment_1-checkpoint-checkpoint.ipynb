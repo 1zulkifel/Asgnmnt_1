{
 "cells": [
  {
   "cell_type": "code",
   "execution_count": 1,
   "metadata": {},
   "outputs": [
    {
     "name": "stdout",
     "output_type": "stream",
     "text": [
      "Enter your number: 8\n",
      "Positive\n"
     ]
    }
   ],
   "source": [
    "number=int(input(\"Enter your number: \"))\n",
    "if number>0:\n",
    "    print('Positive')\n",
    "else:\n",
    "    print('Negative')\n",
    "\n",
    "\n",
    "\n",
    "\n"
   ]
  },
  {
   "cell_type": "code",
   "execution_count": 30,
   "metadata": {},
   "outputs": [
    {
     "name": "stdout",
     "output_type": "stream",
     "text": [
      "enter  number33\n",
      "enter  number22\n",
      "enter  number22\n",
      "enter  number22\n",
      "enter  number22\n",
      "percentage: 24.2\n",
      "fail:F\n"
     ]
    }
   ],
   "source": [
    "\n",
    "urdu=int(input('enter  number'))\n",
    "english=int(input('enter  number'))\n",
    "chem=int(input('enter  number'))\n",
    "math=int(input('enter  number'))\n",
    "phy=int(input('enter  number'))\n",
    "percentage=(urdu+english+chem+math+phy)/500 *100\n",
    "print(\"percentage:\" ,percentage)\n",
    "if percentage>=80:\n",
    "    print('Grade: A')\n",
    "elif percentage>=70:\n",
    "    print('Grade: B')\n",
    "elif percentage>=60:\n",
    "    print('Grade: C')\n",
    "else:\n",
    "    print('fail:F')\n",
    "\n",
    "\n"
   ]
  },
  {
   "cell_type": "code",
   "execution_count": null,
   "metadata": {},
   "outputs": [],
   "source": [
    "#programe for quotient and remainder using remainder and modula op\n",
    "\n",
    "a=12\n",
    "b=13\n",
    "c=a//b\n",
    "print(c)"
   ]
  },
  {
   "cell_type": "markdown",
   "metadata": {},
   "source": [
    "##### a=15\n",
    "b=13\n",
    "c=a%b\n",
    "print(c)"
   ]
  },
  {
   "cell_type": "markdown",
   "metadata": {},
   "source": [
    "## \n",
    "### "
   ]
  },
  {
   "cell_type": "code",
   "execution_count": 10,
   "metadata": {},
   "outputs": [
    {
     "name": "stdout",
     "output_type": "stream",
     "text": [
      "1\n",
      "5\n",
      "7\n",
      "11\n",
      "13\n",
      "17\n",
      "19\n",
      "23\n",
      "25\n",
      "29\n",
      "31\n",
      "35\n",
      "37\n",
      "41\n",
      "43\n",
      "47\n",
      "49\n"
     ]
    }
   ],
   "source": [
    "for number in range (0,51):\n",
    "    if (number%2 !=0 and number%3 !=0):\n",
    "        print(number)\n",
    "\n"
   ]
  },
  {
   "cell_type": "code",
   "execution_count": 43,
   "metadata": {},
   "outputs": [
    {
     "name": "stdout",
     "output_type": "stream",
     "text": [
      "enter your number: 17\n",
      "enter your number: 12\n",
      "12\n",
      "17\n"
     ]
    }
   ],
   "source": [
    "# method 1 for swaping \n",
    "\n",
    "a=int(input('enter your number: '))\n",
    "b=int(input('enter your number: '))\n",
    "a=a+b\n",
    "b=a-b\n",
    "a=a-b\n",
    "print(a)\n",
    "print(b)\n",
    "\n"
   ]
  },
  {
   "cell_type": "code",
   "execution_count": 44,
   "metadata": {},
   "outputs": [
    {
     "name": "stdout",
     "output_type": "stream",
     "text": [
      "enter your number: 2\n",
      "enter your number: 3\n",
      "3\n",
      "2\n"
     ]
    }
   ],
   "source": [
    "#method 2 for swaping using XOR \n",
    "a=int(input('enter your number: '))\n",
    "b=int(input('enter your number: '))\n",
    "a=a^b\n",
    "b=a^b\n",
    "a=a^b\n",
    "print(a)\n",
    "print(b)"
   ]
  },
  {
   "cell_type": "code",
   "execution_count": 11,
   "metadata": {},
   "outputs": [
    {
     "name": "stdout",
     "output_type": "stream",
     "text": [
      "1\n",
      "3\n",
      "5\n",
      "7\n",
      "9\n",
      "11\n",
      "13\n",
      "15\n",
      "17\n",
      "19\n",
      "21\n",
      "23\n",
      "25\n",
      "27\n",
      "29\n",
      "31\n",
      "33\n",
      "35\n",
      "37\n",
      "39\n",
      "41\n",
      "43\n",
      "45\n",
      "47\n",
      "49\n"
     ]
    }
   ],
   "source": [
    "for nmbr in range(0,51):\n",
    "    if(nmbr%2 !=0 and nmbr%3 !=3):\n",
    "        print(nmbr)"
   ]
  },
  {
   "cell_type": "markdown",
   "metadata": {},
   "source": [
    " "
   ]
  },
  {
   "cell_type": "code",
   "execution_count": 51,
   "metadata": {},
   "outputs": [
    {
     "name": "stdout",
     "output_type": "stream",
     "text": [
      "4.63511081571606\n"
     ]
    }
   ],
   "source": [
    "#using herons formula for calculating area of triangle\n",
    "import math \n",
    "a = 4.503\n",
    "b = 2.377\n",
    "c = 3.902\n",
    "s = (a + b + c) / 2\n",
    "area = math.sqrt(s * (s - a) * (s - b) * (s - c))\n",
    "print(area)\n",
    "    "
   ]
  },
  {
   "cell_type": "code",
   "execution_count": 19,
   "metadata": {},
   "outputs": [
    {
     "name": "stdout",
     "output_type": "stream",
     "text": [
      "side a:45\n",
      "side b:77\n",
      "side c:89\n",
      "105.5\n",
      "Area of tringle 45 77 89 is 1732.4803570315019\n"
     ]
    }
   ],
   "source": [
    "# for area of triangle.let a,b,c are sides of triangle and half of the perameters are 0.5. use herons formula\n",
    "a=int(input(\"side a:\"))\n",
    "b=int(input(\"side b:\"))\n",
    "c=int(input(\"side c:\"))\n",
    "s=(a+b+c)/2\n",
    "print(s)\n",
    "s=s*((s-a)*(s-b)*(s-c))\n",
    "print(\"Area of tringle\",a,b,c,\"is\",s**0.5)\n",
    "\n",
    "\n",
    "\n"
   ]
  },
  {
   "cell_type": "code",
   "execution_count": 6,
   "metadata": {},
   "outputs": [
    {
     "name": "stdout",
     "output_type": "stream",
     "text": [
      "enter yout number4\n",
      "[1, 3, 5, 7, 9, 11, 13, 15, 17, 19]\n",
      "[2, 4, 6, 8, 10, 12, 14, 16, 18, 20]\n",
      "20\n",
      "17\n"
     ]
    }
   ],
   "source": [
    "num=int(input('enter yout number'))\n",
    "x=[1,2,3,4,5,6,7,8,9,10,11,12,13,14,15,16,17,18,19,20]\n",
    "even_list=[]\n",
    "odd_list=[]\n",
    "for i in x:\n",
    "    \n",
    "     if i%2==0:\n",
    "      even_list.append(i)\n",
    "     else:\n",
    "        odd_list.append(i)\n",
    "\n",
    "        \n",
    "even_list.sort\n",
    "odd_list.sort\n",
    "\n",
    "print(odd_list)\n",
    "print(even_list)\n",
    "print(even_list[len(even_list)-1])\n",
    "print(odd_list[len(odd_list)-2])"
   ]
  },
  {
   "cell_type": "code",
   "execution_count": 24,
   "metadata": {},
   "outputs": [
    {
     "name": "stdout",
     "output_type": "stream",
     "text": [
      "[1, 2, 3, 5, 6, 8, 9] 8\n"
     ]
    }
   ],
   "source": [
    "list1 = [1,5,6,3,8,9,2]\n",
    "list1.sort()\n",
    "print(list1, max(list1)-1)\n"
   ]
  },
  {
   "cell_type": "raw",
   "metadata": {},
   "source": []
  },
  {
   "cell_type": "markdown",
   "metadata": {},
   "source": []
  },
  {
   "cell_type": "markdown",
   "metadata": {},
   "source": [
    "###### "
   ]
  },
  {
   "cell_type": "code",
   "execution_count": 7,
   "metadata": {},
   "outputs": [
    {
     "name": "stdout",
     "output_type": "stream",
     "text": [
      "entr range of set 1:\t3\n",
      "enter number:\t1\n",
      "enter number:\t2\n",
      "enter number:\t3\n",
      "\n",
      "entr range of set 2:\t6\n",
      "enter numbers:\t3\n",
      "enter numbers:\t4\n",
      "enter numbers:\t5\n",
      "enter numbers:\t6\n",
      "enter numbers:\t7\n",
      "enter numbers:\t8\n",
      "the union of two set is:\t [1, 2, 3, 4, 5, 6, 7, 8]\n"
     ]
    }
   ],
   "source": [
    "list1=[]\n",
    "st1=int(input(\"entr range of set 1:\\t\"))\n",
    "for i in range(st1):\n",
    "    set_a=int(input(\"enter number:\\t\"))\n",
    "    list1.append(set_a)\n",
    "    \n",
    "list2=[] \n",
    "print()\n",
    "st2=int(input(\"entr range of set 2:\\t\"))\n",
    "for k in range(st2):\n",
    "    s2=int(input(\"enter numbers:\\t\"))\n",
    "    list2.append(s2)   \n",
    "print(\"the union of two set is:\\t\", list(set().union(list1, list2)) )\n",
    "    \n",
    "    \n"
   ]
  },
  {
   "cell_type": "markdown",
   "metadata": {},
   "source": [
    "#### "
   ]
  },
  {
   "cell_type": "code",
   "execution_count": null,
   "metadata": {},
   "outputs": [],
   "source": []
  },
  {
   "cell_type": "code",
   "execution_count": null,
   "metadata": {},
   "outputs": [],
   "source": []
  }
 ],
 "metadata": {
  "kernelspec": {
   "display_name": "Python 3",
   "language": "python",
   "name": "python3"
  },
  "language_info": {
   "codemirror_mode": {
    "name": "ipython",
    "version": 3
   },
   "file_extension": ".py",
   "mimetype": "text/x-python",
   "name": "python",
   "nbconvert_exporter": "python",
   "pygments_lexer": "ipython3",
   "version": "3.7.0"
  }
 },
 "nbformat": 4,
 "nbformat_minor": 2
}
